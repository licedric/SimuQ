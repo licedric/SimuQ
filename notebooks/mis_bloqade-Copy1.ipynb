{
 "cells": [
  {
   "cell_type": "code",
   "execution_count": 1,
   "id": "24a177e2",
   "metadata": {},
   "outputs": [],
   "source": [
    "%load_ext autoreload\n",
    "%autoreload 1\n",
    "import sys\n",
    "sys.path.append('..')"
   ]
  },
  {
   "cell_type": "code",
   "execution_count": 2,
   "id": "2f3bac74",
   "metadata": {},
   "outputs": [],
   "source": [
    "from simuq.solver import generate_as\n",
    "from simuq.systems.mis import GenQS\n",
    "from simuq.aais.rydberg1d import Rydberg1DQMachine\n",
    "from simuq.backends.bloqade_rydberg import transpile\n",
    "\n",
    "n = 3\n",
    "D = 3\n",
    "qs = GenQS(k = n, dis_num = D)\n",
    "mach = Rydberg1DQMachine(n)"
   ]
  },
  {
   "cell_type": "code",
   "execution_count": 3,
   "id": "c945c671",
   "metadata": {},
   "outputs": [
    {
     "name": "stdout",
     "output_type": "stream",
     "text": [
      "using Bloqade\n",
      "atoms = AtomList([(0,), (10.519730371987801,), (21.039460743960294,)]) \n",
      "omega = [piecewise_constant(clocks = [0, 0.3333333333333333, 0.6666666666666666, 1.0], values = [4.000000000757792, 3.999999999999999, 4.000000000757792]), piecewise_constant(clocks = [0, 0.3333333333333333, 0.6666666666666666, 1.0], values = [4.000000000757792, 4.000000000757792, 4.000000000757792]), piecewise_constant(clocks = [0, 0.3333333333333333, 0.6666666666666666, 1.0], values = [4.0, 4.000000000757792, 3.9999999999999996]), ]\n",
      "phi = [piecewise_constant(clocks = [0, 0.3333333333333333, 0.6666666666666666, 1.0], values = [5.612794926321654e-17, 5.562749855043859e-17, -8.902088841347252e-19]), piecewise_constant(clocks = [0, 0.3333333333333333, 0.6666666666666666, 1.0], values = [1.3199839831476004e-16, 2.267023257078682e-16, -8.597003961191125e-20]), piecewise_constant(clocks = [0, 0.3333333333333333, 0.6666666666666666, 1.0], values = [4.598771406110307e-16, -1.9659841014485998e-16, 6.188818261103901e-19]), ]\n",
      "delta = [piecewise_constant(clocks = [0, 0.3333333333333333, 0.6666666666666666, 1.0], values = [-0.9689979233548506, -0.302331264947302, 0.3643354083131423]), piecewise_constant(clocks = [0, 0.3333333333333333, 0.6666666666666666, 1.0], values = [-1.0004881980534273, -0.3338215534934486, 0.33284511129374184]), piecewise_constant(clocks = [0, 0.3333333333333333, 0.6666666666666666, 1.0], values = [-0.9689979261610293, -0.30233126119155496, 0.3643354088976656]), ]\n",
      "h = rydberg_h(atoms; Δ = delta, Ω = omega, ϕ = phi)\n"
     ]
    }
   ],
   "source": [
    "Trot = 1\n",
    "tol = 0.1\n",
    "\n",
    "bloqade_code = transpile(*generate_as(qs, mach, Trot, 'least_squares', tol), inter_order = 0)\n",
    "print(bloqade_code)"
   ]
  },
  {
   "cell_type": "code",
   "execution_count": 4,
   "id": "d8ada597",
   "metadata": {},
   "outputs": [
    {
     "name": "stdout",
     "output_type": "stream",
     "text": [
      "using Bloqade\n",
      "atoms = AtomList([(0,), (10.519730371987801,), (21.039460743960294,)]) \n",
      "omega = [piecewise_linear(clocks = [0, 0.3333333333333333, 0.6666666666666666, 1.0], values = [4.000000000757792, 3.999999999999999, 4.000000000757792, 4.000000001515585]), piecewise_linear(clocks = [0, 0.3333333333333333, 0.6666666666666666, 1.0], values = [4.000000000757792, 4.000000000757792, 4.000000000757792, 4.000000000757792]), piecewise_linear(clocks = [0, 0.3333333333333333, 0.6666666666666666, 1.0], values = [4.0, 4.000000000757792, 3.9999999999999996, 3.999999999242207]), ]\n",
      "phi = [piecewise_linear(clocks = [0, 0.3333333333333333, 0.6666666666666666, 1.0], values = [5.612794926321654e-17, 5.562749855043859e-17, -8.902088841347252e-19, -5.740791631870806e-17]), piecewise_linear(clocks = [0, 0.3333333333333333, 0.6666666666666666, 1.0], values = [1.3199839831476004e-16, 2.267023257078682e-16, -8.597003961191125e-20, -2.268742657870921e-16]), piecewise_linear(clocks = [0, 0.3333333333333333, 0.6666666666666666, 1.0], values = [4.598771406110307e-16, -1.9659841014485998e-16, 6.188818261103901e-19, 1.9783617379708082e-16]), ]\n",
      "delta = [piecewise_linear(clocks = [0, 0.3333333333333333, 0.6666666666666666, 1.0], values = [-0.9689979233548506, -0.302331264947302, 0.3643354083131423, 1.0310020815735867]), piecewise_linear(clocks = [0, 0.3333333333333333, 0.6666666666666666, 1.0], values = [-1.0004881980534273, -0.3338215534934486, 0.33284511129374184, 0.9995117760809323]), piecewise_linear(clocks = [0, 0.3333333333333333, 0.6666666666666666, 1.0], values = [-0.9689979261610293, -0.30233126119155496, 0.3643354088976656, 1.0310020789868863]), ]\n",
      "h = rydberg_h(atoms; Δ = delta, Ω = omega, ϕ = phi)\n"
     ]
    }
   ],
   "source": [
    "Trot = 1\n",
    "tol = 0.1\n",
    "\n",
    "bloqade_code = transpile(*generate_as(qs, mach, Trot, 'least_squares', tol), inter_order = 1)\n",
    "print(bloqade_code)"
   ]
  },
  {
   "cell_type": "code",
   "execution_count": null,
   "id": "91eabc11",
   "metadata": {},
   "outputs": [],
   "source": []
  }
 ],
 "metadata": {
  "kernelspec": {
   "display_name": "Python 3 (ipykernel)",
   "language": "python",
   "name": "python3"
  },
  "language_info": {
   "codemirror_mode": {
    "name": "ipython",
    "version": 3
   },
   "file_extension": ".py",
   "mimetype": "text/x-python",
   "name": "python",
   "nbconvert_exporter": "python",
   "pygments_lexer": "ipython3",
   "version": "3.9.6"
  }
 },
 "nbformat": 4,
 "nbformat_minor": 5
}
